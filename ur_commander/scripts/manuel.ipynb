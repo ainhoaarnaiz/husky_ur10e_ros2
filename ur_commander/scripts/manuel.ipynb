{
 "cells": [
  {
   "cell_type": "code",
   "execution_count": 1,
   "metadata": {},
   "outputs": [],
   "source": [
    "from threading import Thread\n",
    "from math import pi\n",
    "\n",
    "import rclpy\n",
    "from rclpy.callback_groups import ReentrantCallbackGroup\n",
    "from rclpy.node import Node\n",
    "\n",
    "from pymoveit2 import MoveIt2\n",
    "from pymoveit2.robots import ur\n",
    "\n",
    "from tf_transformations import quaternion_multiply, quaternion_from_euler\n",
    "\n",
    "from geometry_msgs.msg import Pose, Quaternion, Point\n",
    "import rclpy.wait_for_message\n",
    "from ur_msgs.srv import SetIO\n",
    "from ur_commander.srv import VisualizePoses\n",
    "\n",
    "rclpy.init()\n",
    "\n",
    "# Create node for this example\n",
    "node = Node(\"notebook_example\")\n",
    "callback_group = ReentrantCallbackGroup()\n",
    "\n",
    "\n",
    "def display_poses(poses: list[Pose], frame_id: str = \"ur_base_link\") -> None:\n",
    "    client = node.create_client(VisualizePoses, \"/visualize_poses\")\n",
    "    while not client.wait_for_service(timeout_sec=1.0):\n",
    "        node.get_logger().info(\"service not available, waiting again...\")\n",
    "    client.call(VisualizePoses.Request(poses=poses, frame_id=frame_id))\n",
    "\n",
    "\n",
    "moveit2 = MoveIt2(\n",
    "    node=node,\n",
    "    joint_names=ur.joint_names(),\n",
    "    base_link_name=ur.base_link_name(),\n",
    "    end_effector_name=ur.end_effector_name(),\n",
    "    group_name=ur.MOVE_GROUP_ARM,\n",
    "    callback_group=callback_group,\n",
    ")\n",
    "\n",
    "# Spin the node in background thread(s) and wait a bit for initialization\n",
    "executor = rclpy.executors.MultiThreadedExecutor(2)\n",
    "executor.add_node(node)\n",
    "executor_thread = Thread(target=executor.spin, daemon=True, args=())\n",
    "executor_thread.start()\n",
    "node.create_rate(1.0).sleep()\n",
    "\n",
    "# Scale down velocity and acceleration of joints (percentage of maximum)\n",
    "moveit2.max_velocity = 0.1\n",
    "moveit2.max_acceleration = 0.05\n",
    "synchronous = True\n",
    "cancel_after_secs = 0.0\n",
    "cartesian = False\n",
    "cartesian_max_step = 0.0025\n",
    "cartesian_fraction_threshold = 0.0\n",
    "cartesian_jump_threshold = 0.0\n",
    "cartesian_avoid_collisions = False\n",
    "moveit2.planner_id = \"RRTconnectkConfigDefault\"\n"
   ]
  },
  {
   "cell_type": "code",
   "execution_count": 2,
   "metadata": {},
   "outputs": [
    {
     "name": "stdout",
     "output_type": "stream",
     "text": [
      "0.325\n"
     ]
    }
   ],
   "source": [
    "# Setting up collision boxes\n",
    "husky_size = {\"x\":0.99, \"y\":0.67, \"z\":0.39}\n",
    "boxes = {\"x\":0.325, \"y\":0.49, \"z\":0.40}\n",
    "ground_height = -husky_size[\"z\"] - 0.01/2 - 0.05\n",
    "\n",
    "print(boxes[\"x\"])\n",
    "\n",
    "# Add collision objects\n",
    "moveit2.add_collision_box(\n",
    "    id=\"husky\",\n",
    "    size=[husky_size[\"x\"] + 0.05, husky_size[\"y\"] + 0.05, husky_size[\"z\"] + 0.05],\n",
    "    position=[-0.3, 0.0, -husky_size[\"z\"]/2 - 0.05],\n",
    "    quat_xyzw=[0.0, 0.0, 0.0, 0.0],\n",
    ")\n",
    "\n",
    "moveit2.add_collision_box(\n",
    "    id=\"controller\",\n",
    "    size=[0.45, 0.65, 0.7],\n",
    "    position=[-0.7, 0.0, 0.34],\n",
    "    quat_xyzw=[0.0, 0.0, 0.0, 0.0],\n",
    ")\n",
    "\n",
    "moveit2.add_collision_box(\n",
    "    id=\"floor\",\n",
    "    size=[4.0, 4.0, 0.01],\n",
    "    position=[0.0, 0.0, -husky_size[\"z\"] - 0.01/2 - 0.05],\n",
    "    quat_xyzw=[0.0, 0.0, 0.0, 0.0],\n",
    ")"
   ]
  },
  {
   "cell_type": "markdown",
   "metadata": {},
   "source": [
    "**Define Joint Position**   \n",
    "\n",
    "Forward kinematics, a trajectory will be planned"
   ]
  },
  {
   "cell_type": "code",
   "execution_count": null,
   "metadata": {},
   "outputs": [
    {
     "name": "stderr",
     "output_type": "stream",
     "text": [
      "[INFO] [1741885728.475348614] [notebook_example]: Moving to home position\n"
     ]
    }
   ],
   "source": [
    "# plan home position\n",
    "home_position = [-0.2257, -1.5872, 1.5606, -1.3235, -0.8115, 4.3983]\n",
    "node.get_logger().info(\"Moving to home position\")\n",
    "traj = moveit2.move_to_configuration(home_position)\n",
    "if traj is None:\n",
    "    node.get_logger().error(\"Failed to move to home position\")"
   ]
  },
  {
   "cell_type": "code",
   "execution_count": 9,
   "metadata": {},
   "outputs": [
    {
     "name": "stderr",
     "output_type": "stream",
     "text": [
      "[INFO] [1741885748.592026374] [notebook_example]: Moved to home position\n"
     ]
    }
   ],
   "source": [
    "# Excecute the planned trajectory home position\n",
    "moveit2.execute(traj)\n",
    "success = moveit2.wait_until_executed()\n",
    "if not success:\n",
    "    node.get_logger().error(\"Failed to execute trajectory\")\n",
    "else:\n",
    "    node.get_logger().info(\"Moved to home position\")"
   ]
  },
  {
   "cell_type": "markdown",
   "metadata": {},
   "source": [
    "**Define a Target Pose**    \n",
    "\n",
    "Display the pose"
   ]
  },
  {
   "cell_type": "markdown",
   "metadata": {},
   "source": [
    "Plan a trajectory"
   ]
  },
  {
   "cell_type": "code",
   "execution_count": 10,
   "metadata": {},
   "outputs": [],
   "source": [
    "collision_object_location = Pose()\n",
    "\n",
    "collision_object_location.position.x = boxes[\"x\"]/2 + 0.42\n",
    "collision_object_location.position.y = 0.0\n",
    "collision_object_location.position.z = ground_height + boxes[\"z\"]/2\n",
    "\n",
    "collision_object_location.orientation = Quaternion(x=0.0, y=0.0, z=0.0, w=1.0)\n",
    "\n",
    "box_location = Pose()\n",
    "\n",
    "box_location.position = collision_object_location.position\n",
    "\n",
    "b1 = quaternion_from_euler(-pi*3/4, 0.0, 0.0)\n",
    "\n",
    "box_location.orientation.x = b1[0]\n",
    "box_location.orientation.y = b1[1]\n",
    "box_location.orientation.z = b1[2]\n",
    "box_location.orientation.w = b1[3]\n",
    "\n",
    "display_poses([box_location])\n"
   ]
  },
  {
   "cell_type": "code",
   "execution_count": 11,
   "metadata": {},
   "outputs": [],
   "source": [
    "traj = moveit2.move_to_pose(\n",
    "    position=box_location.position,\n",
    "    quat_xyzw=box_location.orientation,\n",
    "    cartesian=True,\n",
    "    cartesian_max_step=cartesian_max_step,\n",
    "    cartesian_fraction_threshold=cartesian_fraction_threshold,\n",
    ")"
   ]
  },
  {
   "cell_type": "markdown",
   "metadata": {},
   "source": [
    "Execute the trajectory"
   ]
  },
  {
   "cell_type": "code",
   "execution_count": null,
   "metadata": {},
   "outputs": [],
   "source": [
    "moveit2.execute(traj)\n",
    "success = moveit2.wait_until_executed()\n",
    "if not success:\n",
    "    node.get_logger().error(\"Failed to execute trajectory\")"
   ]
  },
  {
   "cell_type": "code",
   "execution_count": null,
   "metadata": {},
   "outputs": [],
   "source": [
    "# plan home position\n",
    "home_position = [-0.2257, -1.5872, 1.5606, -1.3235, -0.8115, 4.3983]\n",
    "node.get_logger().info(\"Moving to home position\")\n",
    "traj = moveit2.move_to_configuration(home_position)\n",
    "if traj is None:\n",
    "    node.get_logger().error(\"Failed to move to home position\")"
   ]
  },
  {
   "cell_type": "code",
   "execution_count": null,
   "metadata": {},
   "outputs": [],
   "source": [
    "# Excecute the planned trajectory home position\n",
    "moveit2.execute(traj)\n",
    "success = moveit2.wait_until_executed()\n",
    "if not success:\n",
    "    node.get_logger().error(\"Failed to execute trajectory\")\n",
    "else:\n",
    "    node.get_logger().info(\"Moved to home position\")"
   ]
  },
  {
   "cell_type": "markdown",
   "metadata": {},
   "source": [
    "#### More than one target pose"
   ]
  },
  {
   "cell_type": "code",
   "execution_count": null,
   "metadata": {},
   "outputs": [],
   "source": [
    "target0 = Pose(\n",
    "    position=Point(x=0.6, y=-0.3, z=0.5),\n",
    "    orientation=Quaternion(x=0.0, y=0.7071067811865475, z=0.0, w=0.7071067811865476),\n",
    ")\n",
    "target1 = Pose(\n",
    "    position=Point(x=0.6, y=0.3, z=0.5),\n",
    "    orientation=Quaternion(x=0.5, y=0.5, z=0.5, w=0.5),\n",
    ")\n",
    "\n",
    "display_poses([target0, target1])"
   ]
  },
  {
   "cell_type": "code",
   "execution_count": null,
   "metadata": {},
   "outputs": [],
   "source": [
    "targets = [target0, target1]\n",
    "for i, target_pose in enumerate(targets):\n",
    "\n",
    "    position = [target_pose.position.x, target_pose.position.y, target_pose.position.z]\n",
    "    quat_xyzw = [\n",
    "        target_pose.orientation.x,\n",
    "        target_pose.orientation.y,\n",
    "        target_pose.orientation.z,\n",
    "        target_pose.orientation.w,\n",
    "    ]\n",
    "\n",
    "    node.get_logger().info(f\"Moving to target {i} {{position: {list(position)}, quat_xyzw: {list(quat_xyzw)}}}\")\n",
    "    traj = moveit2.move_to_pose(\n",
    "        position=position,\n",
    "        quat_xyzw=quat_xyzw,\n",
    "        cartesian=cartesian,\n",
    "        cartesian_max_step=cartesian_max_step,\n",
    "        cartesian_fraction_threshold=cartesian_fraction_threshold,\n",
    "    )\n",
    "    if traj is not None:\n",
    "        node.get_logger().info(f\"Move to target {i}\")\n",
    "        moveit2.execute(traj)\n",
    "        success = moveit2.wait_until_executed()"
   ]
  },
  {
   "cell_type": "code",
   "execution_count": null,
   "metadata": {},
   "outputs": [],
   "source": [
    "target_poses = [\n",
    "    Pose(\n",
    "        position=Point(x=0.6, y=0.1, z=0.8),\n",
    "        orientation=Quaternion(x=0.0, y=0.7071067811865475, z=0.0, w=0.7071067811865476),\n",
    "    ),\n",
    "    Pose(\n",
    "        position=Point(x=0.6, y=0.3, z=0.5),\n",
    "        orientation=Quaternion(x=0.5, y=0.5, z=0.5, w=0.5),\n",
    "    ),\n",
    "    Pose(\n",
    "        position=Point(x=0.6, y=-0.3, z=0.5),\n",
    "        orientation=Quaternion(x=0.0, y=0.7071067811865475, z=0.0, w=0.7071067811865476),\n",
    "    ),\n",
    "]\n",
    "\n",
    "display_poses(target_poses)"
   ]
  },
  {
   "cell_type": "code",
   "execution_count": null,
   "metadata": {},
   "outputs": [],
   "source": [
    "traj = moveit2.move_sequence_async(\n",
    "    poses=target_poses,\n",
    "    blend_radius=[0.1, 0.1, 0.0],\n",
    "    pipeline_id=\"pilz_industrial_motion_planner\",\n",
    "    planner_ids=[\"PTP\", \"PTP\", \"PTP\"],\n",
    ")"
   ]
  },
  {
   "cell_type": "code",
   "execution_count": null,
   "metadata": {},
   "outputs": [],
   "source": [
    "if traj is not None:\n",
    "    moveit2.execute(traj)"
   ]
  }
 ],
 "metadata": {
  "kernelspec": {
   "display_name": "Python 3",
   "language": "python",
   "name": "python3"
  },
  "language_info": {
   "codemirror_mode": {
    "name": "ipython",
    "version": 3
   },
   "file_extension": ".py",
   "mimetype": "text/x-python",
   "name": "python",
   "nbconvert_exporter": "python",
   "pygments_lexer": "ipython3",
   "version": "3.10.12"
  }
 },
 "nbformat": 4,
 "nbformat_minor": 2
}
