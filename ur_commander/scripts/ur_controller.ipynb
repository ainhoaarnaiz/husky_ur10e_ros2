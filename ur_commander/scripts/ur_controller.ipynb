{
 "cells": [
  {
   "cell_type": "code",
   "execution_count": 3,
   "metadata": {},
   "outputs": [
    {
     "ename": "AttributeError",
     "evalue": "module 'numpy' has no attribute 'float'.\n`np.float` was a deprecated alias for the builtin `float`. To avoid this error in existing code, use `float` by itself. Doing this will not modify any behavior and is safe. If you specifically wanted the numpy scalar type, use `np.float64` here.\nThe aliases was originally deprecated in NumPy 1.20; for more details and guidance see the original release note at:\n    https://numpy.org/devdocs/release/1.20.0-notes.html#deprecations",
     "output_type": "error",
     "traceback": [
      "\u001b[0;31m---------------------------------------------------------------------------\u001b[0m",
      "\u001b[0;31mAttributeError\u001b[0m                            Traceback (most recent call last)",
      "Cell \u001b[0;32mIn[3], line 16\u001b[0m\n\u001b[1;32m     13\u001b[0m \u001b[38;5;28;01mfrom\u001b[39;00m \u001b[38;5;21;01mur_msgs\u001b[39;00m\u001b[38;5;21;01m.\u001b[39;00m\u001b[38;5;21;01msrv\u001b[39;00m \u001b[38;5;28;01mimport\u001b[39;00m SetIO\n\u001b[1;32m     14\u001b[0m \u001b[38;5;28;01mfrom\u001b[39;00m \u001b[38;5;21;01mur_commander\u001b[39;00m\u001b[38;5;21;01m.\u001b[39;00m\u001b[38;5;21;01msrv\u001b[39;00m \u001b[38;5;28;01mimport\u001b[39;00m VisualizePoses\n\u001b[0;32m---> 16\u001b[0m \u001b[38;5;28;01mfrom\u001b[39;00m \u001b[38;5;21;01mtf_transformations\u001b[39;00m \u001b[38;5;28;01mimport\u001b[39;00m quaternion_multiply, quaternion_from_euler\n\u001b[1;32m     17\u001b[0m \u001b[38;5;28;01mimport\u001b[39;00m \u001b[38;5;21;01mnumpy\u001b[39;00m \u001b[38;5;28;01mas\u001b[39;00m \u001b[38;5;21;01mnp\u001b[39;00m\n\u001b[1;32m     18\u001b[0m \u001b[38;5;28;01mfrom\u001b[39;00m \u001b[38;5;21;01mgeometry_msgs\u001b[39;00m\u001b[38;5;21;01m.\u001b[39;00m\u001b[38;5;21;01mmsg\u001b[39;00m \u001b[38;5;28;01mimport\u001b[39;00m PoseStamped, Pose, Point, Quaternion\n",
      "File \u001b[0;32m/opt/ros/humble/lib/python3.10/site-packages/tf_transformations/__init__.py:46\u001b[0m\n\u001b[1;32m     42\u001b[0m \u001b[38;5;28;01mimport\u001b[39;00m \u001b[38;5;21;01mmath\u001b[39;00m\n\u001b[1;32m     44\u001b[0m \u001b[38;5;28;01mimport\u001b[39;00m \u001b[38;5;21;01mnumpy\u001b[39;00m\n\u001b[0;32m---> 46\u001b[0m \u001b[38;5;28;01mimport\u001b[39;00m \u001b[38;5;21;01mtransforms3d\u001b[39;00m\n\u001b[1;32m     48\u001b[0m TRANSLATION_IDENTITY \u001b[38;5;241m=\u001b[39m [\u001b[38;5;241m0.0\u001b[39m, \u001b[38;5;241m0.0\u001b[39m, \u001b[38;5;241m0.0\u001b[39m]\n\u001b[1;32m     49\u001b[0m ROTATION_IDENTITY \u001b[38;5;241m=\u001b[39m numpy\u001b[38;5;241m.\u001b[39midentity(\u001b[38;5;241m3\u001b[39m, dtype\u001b[38;5;241m=\u001b[39mnumpy\u001b[38;5;241m.\u001b[39mfloat64)\n",
      "File \u001b[0;32m/usr/lib/python3/dist-packages/transforms3d/__init__.py:10\u001b[0m\n\u001b[1;32m      8\u001b[0m \u001b[38;5;28;01mfrom\u001b[39;00m \u001b[38;5;21;01m.\u001b[39;00m \u001b[38;5;28;01mimport\u001b[39;00m taitbryan\n\u001b[1;32m      9\u001b[0m \u001b[38;5;28;01mfrom\u001b[39;00m \u001b[38;5;21;01m.\u001b[39;00m \u001b[38;5;28;01mimport\u001b[39;00m affines\n\u001b[0;32m---> 10\u001b[0m \u001b[38;5;28;01mfrom\u001b[39;00m \u001b[38;5;21;01m.\u001b[39;00m \u001b[38;5;28;01mimport\u001b[39;00m quaternions\n\u001b[1;32m     11\u001b[0m \u001b[38;5;28;01mfrom\u001b[39;00m \u001b[38;5;21;01m.\u001b[39;00m \u001b[38;5;28;01mimport\u001b[39;00m euler\n\u001b[1;32m     12\u001b[0m \u001b[38;5;28;01mfrom\u001b[39;00m \u001b[38;5;21;01m.\u001b[39;00m \u001b[38;5;28;01mimport\u001b[39;00m axangles\n",
      "File \u001b[0;32m/usr/lib/python3/dist-packages/transforms3d/quaternions.py:26\u001b[0m\n\u001b[1;32m     23\u001b[0m \u001b[38;5;28;01mimport\u001b[39;00m \u001b[38;5;21;01mmath\u001b[39;00m\n\u001b[1;32m     24\u001b[0m \u001b[38;5;28;01mimport\u001b[39;00m \u001b[38;5;21;01mnumpy\u001b[39;00m \u001b[38;5;28;01mas\u001b[39;00m \u001b[38;5;21;01mnp\u001b[39;00m\n\u001b[0;32m---> 26\u001b[0m _MAX_FLOAT \u001b[38;5;241m=\u001b[39m np\u001b[38;5;241m.\u001b[39mmaximum_sctype(\u001b[43mnp\u001b[49m\u001b[38;5;241;43m.\u001b[39;49m\u001b[43mfloat\u001b[49m)\n\u001b[1;32m     27\u001b[0m _FLOAT_EPS \u001b[38;5;241m=\u001b[39m np\u001b[38;5;241m.\u001b[39mfinfo(np\u001b[38;5;241m.\u001b[39mfloat)\u001b[38;5;241m.\u001b[39meps\n\u001b[1;32m     30\u001b[0m \u001b[38;5;28;01mdef\u001b[39;00m \u001b[38;5;21mfillpositive\u001b[39m(xyz, w2_thresh\u001b[38;5;241m=\u001b[39m\u001b[38;5;28;01mNone\u001b[39;00m):\n",
      "File \u001b[0;32m/usr/local/lib/python3.10/dist-packages/numpy/__init__.py:324\u001b[0m, in \u001b[0;36m__getattr__\u001b[0;34m(attr)\u001b[0m\n\u001b[1;32m    319\u001b[0m     warnings\u001b[38;5;241m.\u001b[39mwarn(\n\u001b[1;32m    320\u001b[0m         \u001b[38;5;124mf\u001b[39m\u001b[38;5;124m\"\u001b[39m\u001b[38;5;124mIn the future `np.\u001b[39m\u001b[38;5;132;01m{\u001b[39;00mattr\u001b[38;5;132;01m}\u001b[39;00m\u001b[38;5;124m` will be defined as the \u001b[39m\u001b[38;5;124m\"\u001b[39m\n\u001b[1;32m    321\u001b[0m         \u001b[38;5;124m\"\u001b[39m\u001b[38;5;124mcorresponding NumPy scalar.\u001b[39m\u001b[38;5;124m\"\u001b[39m, \u001b[38;5;167;01mFutureWarning\u001b[39;00m, stacklevel\u001b[38;5;241m=\u001b[39m\u001b[38;5;241m2\u001b[39m)\n\u001b[1;32m    323\u001b[0m \u001b[38;5;28;01mif\u001b[39;00m attr \u001b[38;5;129;01min\u001b[39;00m __former_attrs__:\n\u001b[0;32m--> 324\u001b[0m     \u001b[38;5;28;01mraise\u001b[39;00m \u001b[38;5;167;01mAttributeError\u001b[39;00m(__former_attrs__[attr])\n\u001b[1;32m    326\u001b[0m \u001b[38;5;28;01mif\u001b[39;00m attr \u001b[38;5;241m==\u001b[39m \u001b[38;5;124m'\u001b[39m\u001b[38;5;124mtesting\u001b[39m\u001b[38;5;124m'\u001b[39m:\n\u001b[1;32m    327\u001b[0m     \u001b[38;5;28;01mimport\u001b[39;00m \u001b[38;5;21;01mnumpy\u001b[39;00m\u001b[38;5;21;01m.\u001b[39;00m\u001b[38;5;21;01mtesting\u001b[39;00m \u001b[38;5;28;01mas\u001b[39;00m \u001b[38;5;21;01mtesting\u001b[39;00m\n",
      "\u001b[0;31mAttributeError\u001b[0m: module 'numpy' has no attribute 'float'.\n`np.float` was a deprecated alias for the builtin `float`. To avoid this error in existing code, use `float` by itself. Doing this will not modify any behavior and is safe. If you specifically wanted the numpy scalar type, use `np.float64` here.\nThe aliases was originally deprecated in NumPy 1.20; for more details and guidance see the original release note at:\n    https://numpy.org/devdocs/release/1.20.0-notes.html#deprecations"
     ]
    }
   ],
   "source": [
    "from threading import Thread\n",
    "from math import pi\n",
    "\n",
    "import rclpy\n",
    "from rclpy.callback_groups import ReentrantCallbackGroup\n",
    "from rclpy.node import Node\n",
    "\n",
    "from pymoveit2 import MoveIt2\n",
    "from pymoveit2.robots import ur\n",
    "\n",
    "from geometry_msgs.msg import Pose, Quaternion, Point\n",
    "import rclpy.wait_for_message\n",
    "from ur_msgs.srv import SetIO\n",
    "from ur_commander.srv import VisualizePoses\n",
    "\n",
    "from tf_transformations import quaternion_multiply, quaternion_from_euler\n",
    "import numpy as np\n",
    "from geometry_msgs.msg import PoseStamped, Pose, Point, Quaternion\n",
    "from scipy.spatial.transform import Rotation\n",
    "\n",
    "rclpy.init()\n",
    "\n",
    "# Create node for this example\n",
    "node = Node(\"notebook_example\")\n",
    "callback_group = ReentrantCallbackGroup()\n",
    "\n",
    "\n",
    "def display_poses(poses: list[Pose], frame_id: str = \"ur_base_link\") -> None:\n",
    "    client = node.create_client(VisualizePoses, \"/visualize_poses\")\n",
    "    while not client.wait_for_service(timeout_sec=1.0):\n",
    "        node.get_logger().info(\"service not available, waiting again...\")\n",
    "    client.call(VisualizePoses.Request(poses=poses, frame_id=frame_id))\n",
    "\n",
    "\n",
    "moveit2 = MoveIt2(\n",
    "    node=node,\n",
    "    joint_names=ur.joint_names(),\n",
    "    base_link_name=ur.base_link_name(),\n",
    "    end_effector_name=ur.end_effector_name(),\n",
    "    group_name=ur.MOVE_GROUP_ARM,\n",
    "    callback_group=callback_group,\n",
    ")\n",
    "\n",
    "# Spin the node in background thread(s) and wait a bit for initialization\n",
    "executor = rclpy.executors.MultiThreadedExecutor(2)\n",
    "executor.add_node(node)\n",
    "executor_thread = Thread(target=executor.spin, daemon=True, args=())\n",
    "executor_thread.start()\n",
    "node.create_rate(1.0).sleep()\n",
    "\n",
    "# Scale down velocity and acceleration of joints (percentage of maximum)\n",
    "moveit2.max_velocity = 0.1\n",
    "moveit2.max_acceleration = 0.1\n",
    "synchronous = True\n",
    "cancel_after_secs = 0.0\n",
    "cartesian = True\n",
    "cartesian_max_step = 0.01\n",
    "cartesian_fraction_threshold = 0.8\n",
    "cartesian_jump_threshold = 0.0\n",
    "cartesian_avoid_collisions = True\n",
    "moveit2.planner_id = \"RRTkConfigDefaul\"\n",
    "\n",
    "# # Add collision objects\n",
    "# moveit2.add_collision_box(\n",
    "#     id=\"table\",\n",
    "#     size=[2.0, 1.0, 0.05],\n",
    "#     position=[0.0, 0.0, -0.025],\n",
    "#     quat_xyzw=[0.0, 0.0, 0.0, 0.0],\n",
    "# )\n",
    "\n",
    "\n",
    "\n"
   ]
  },
  {
   "cell_type": "code",
   "execution_count": 2,
   "metadata": {},
   "outputs": [
    {
     "name": "stdout",
     "output_type": "stream",
     "text": [
      "0.325\n"
     ]
    }
   ],
   "source": [
    "husky_size = {\"x\":0.99, \"y\":0.67, \"z\":0.39}\n",
    "boxes = {\"x\":0.325, \"y\":0.49, \"z\":0.40}\n",
    "ground_height = -husky_size[\"z\"] - 0.01/2 - 0.05\n",
    "\n",
    "print(boxes[\"x\"])\n",
    "\n",
    "# Add collision objects\n",
    "moveit2.add_collision_box(\n",
    "    id=\"husky\",\n",
    "    size=[husky_size[\"x\"] + 0.05, husky_size[\"y\"] + 0.05, husky_size[\"z\"] + 0.05],\n",
    "    position=[-0.3, 0.0, -husky_size[\"z\"]/2 - 0.05],\n",
    "    quat_xyzw=[0.0, 0.0, 0.0, 0.0],\n",
    ")\n",
    "\n",
    "moveit2.add_collision_box(\n",
    "    id=\"controller\",\n",
    "    size=[0.45, 0.65, 0.7],\n",
    "    position=[-0.7, 0.0, 0.34],\n",
    "    quat_xyzw=[0.0, 0.0, 0.0, 0.0],\n",
    ")\n",
    "\n",
    "moveit2.add_collision_box(\n",
    "    id=\"floor\",\n",
    "    size=[4.0, 4.0, 0.01],\n",
    "    position=[0.0, 0.0, -husky_size[\"z\"] - 0.01/2 - 0.05],\n",
    "    quat_xyzw=[0.0, 0.0, 0.0, 0.0],\n",
    ")"
   ]
  },
  {
   "cell_type": "markdown",
   "metadata": {},
   "source": [
    "**Define a Target Pose**    \n",
    "\n",
    "Display the pose"
   ]
  },
  {
   "cell_type": "code",
   "execution_count": 20,
   "metadata": {},
   "outputs": [
    {
     "name": "stderr",
     "output_type": "stream",
     "text": [
      "[INFO] [1741793359.767038795] [notebook_example]: Moving to homecartesian =True position\n",
      "[INFO] [1741793359.889363754] [notebook_example]: Moving to homecartesian =True position\n",
      "[INFO] [1741793383.962625926] [notebook_example]: Moved to home position\n"
     ]
    }
   ],
   "source": [
    "home_position = [0.0, -pi / 2, pi / 2, 0.0, 0.0, 0.0]\n",
    "node.get_logger().info(\"Moving to homecartesian =True position\")\n",
    "traj_home = moveit2.move_to_configuration(home_position)\n",
    "if traj_home is None:home_position = [0.0, -pi / 2, pi / 2, 0.0, 0.0, 0.0]\n",
    "node.get_logger().info(\"Moving to homecartesian =True position\")\n",
    "traj_home = moveit2.move_to_configuration(home_position)\n",
    "if traj_home is None:\n",
    "    node.get_logger().error(\"Failed to move to home position\")\n",
    "    node.get_logger().error(\"Failed to move to home position\")\n",
    "\n",
    "moveit2.execute(traj_home)\n",
    "success = moveit2.wait_until_executed()\n",
    "if not success:\n",
    "    node.get_logger().error(\"Failed to execute trajectory\")\n",
    "else:\n",
    "    node.get_logger().info(\"Moved to home position\")"
   ]
  },
  {
   "cell_type": "code",
   "execution_count": 3,
   "metadata": {},
   "outputs": [
    {
     "name": "stderr",
     "output_type": "stream",
     "text": [
      "[INFO] [1741793694.189868577] [notebook_example]: Move to target geometry_msgs.msg.Pose(position=geometry_msgs.msg.Point(x=0.6, y=0.1, z=0.7), orientation=geometry_msgs.msg.Quaternion(x=-0.9238795325112867, y=0.0, z=0.0, w=0.38268343236508984))\n"
     ]
    },
    {
     "name": "stdout",
     "output_type": "stream",
     "text": [
      "True\n"
     ]
    }
   ],
   "source": [
    "home = Pose()\n",
    "\n",
    "home.position.x = 0.6\n",
    "home.position.y = 0.1\n",
    "home.position.z = 0.7\n",
    "\n",
    "h = quaternion_from_euler(-pi*3/4, 0.0, 0.0)\n",
    "\n",
    "home.orientation.x = h[0]\n",
    "home.orientation.y = h[1]\n",
    "home.orientation.z = h[2]\n",
    "home.orientation.w = h[3]\n",
    "\n",
    "display_poses([home])\n",
    "\n",
    "traj = moveit2.move_to_pose(\n",
    "                    position=home.position,\n",
    "                    quat_xyzw=home.orientation,\n",
    "                    cartesian=cartesian,\n",
    "                    cartesian_max_step=cartesian_max_step,\n",
    "                    cartesian_fraction_threshold=cartesian_fraction_threshold,\n",
    "                )\n",
    "\n",
    "if traj is not None:\n",
    "    node.get_logger().info(f\"Move to target {home}\")\n",
    "    moveit2.execute(traj)\n",
    "    success = moveit2.wait_until_executed()\n",
    "    print(success)"
   ]
  },
  {
   "cell_type": "code",
   "execution_count": null,
   "metadata": {},
   "outputs": [],
   "source": [
    "if traj is not None:\n",
    "    node.get_logger().info(f\"Move to target {home}\")\n",
    "    moveit2.execute(traj)\n",
    "    success = moveit2.wait_until_executed()\n",
    "    print(success)"
   ]
  },
  {
   "cell_type": "markdown",
   "metadata": {},
   "source": []
  },
  {
   "cell_type": "code",
   "execution_count": 6,
   "metadata": {},
   "outputs": [
    {
     "name": "stdout",
     "output_type": "stream",
     "text": [
      "0.5825\n",
      "geometry_msgs.msg.Point(x=0.5825, y=-0.345, z=-0.195)\n"
     ]
    }
   ],
   "source": [
    "\n",
    "collision_object_location = Pose()\n",
    "\n",
    "collision_object_location.position.x = boxes[\"x\"]/2 + 0.42\n",
    "collision_object_location.position.y = 0.0\n",
    "collision_object_location.position.z = ground_height + boxes[\"z\"]/2\n",
    "\n",
    "collision_object_location.orientation = Quaternion(x=0.0, y=0.0, z=0.0, w=1.0)\n",
    "\n",
    "moveit2.add_collision_box(\n",
    "    id=\"box\",\n",
    "    size=[boxes[\"x\"], boxes[\"y\"], boxes[\"z\"]],\n",
    "    position=collision_object_location.position,\n",
    "    quat_xyzw=collision_object_location.orientation,\n",
    ")\n",
    "\n",
    "\n",
    "\n",
    "box_location = Pose()\n",
    "\n",
    "box_location.position = collision_object_location.position\n",
    "\n",
    "b1 = quaternion_from_euler(-pi*3/4, 0.0, 0.0)\n",
    "\n",
    "box_location.orientation.x = b1[0]\n",
    "box_location.orientation.y = b1[1]\n",
    "box_location.orientation.z = b1[2]\n",
    "box_location.orientation.w = b1[3]\n",
    "\n",
    "\n",
    "print(box_location.position.x)\n",
    "\n",
    "\n",
    "\n",
    "start = Pose()\n",
    "\n",
    "start.position.x = box_location.position.x\n",
    "start.position.y = -(box_location.position.y + boxes[\"y\"]/2 + 0.1)\n",
    "start.position.z = box_location.position.z + 0.05\n",
    "\n",
    "start.orientation = box_location.orientation\n",
    "\n",
    "\n",
    "approch = Pose()\n",
    "\n",
    "approch.position.x = start.position.x \n",
    "approch.position.y = start.position.y\n",
    "approch.position.z = start.position.z + 0.3\n",
    "\n",
    "approch.orientation = start.orientation\n",
    "\n",
    "\n",
    "\n",
    "\n",
    "stop = Pose()\n",
    "\n",
    "stop.position.x = box_location.position.x\n",
    "stop.position.y = box_location.position.y + husky_size[\"y\"]/2 + 0.1\n",
    "stop.position.z = box_location.position.z + 0.05\n",
    "\n",
    "stop.orientation = start.orientation\n",
    "\n",
    "display_poses([box_location,approch, start, stop])\n",
    "\n",
    "safe_stop = Pose()\n",
    "\n",
    "safe_stop.position.x = stop.position.x\n",
    "safe_stop.position.y = stop.position.y\n",
    "safe_stop.position.z = stop.position.z + 0.3\n",
    "\n",
    "safe_stop.orientation = stop.orientation\n",
    "\n",
    "\n",
    "\n",
    "print(start.position)\n",
    "display_poses([box_location, approch, start, stop, safe_stop])\n",
    "\n",
    "\n"
   ]
  },
  {
   "cell_type": "code",
   "execution_count": null,
   "metadata": {},
   "outputs": [],
   "source": [
    "print(help(moveit2))"
   ]
  },
  {
   "cell_type": "code",
   "execution_count": null,
   "metadata": {},
   "outputs": [],
   "source": [
    "targets = [approch, start,stop, safe_stop]"
   ]
  },
  {
   "cell_type": "code",
   "execution_count": null,
   "metadata": {},
   "outputs": [],
   "source": [
    "cartesian =True"
   ]
  },
  {
   "cell_type": "code",
   "execution_count": 24,
   "metadata": {},
   "outputs": [],
   "source": [
    "traj = moveit2.move_to_pose(\n",
    "    position=approch.position,\n",
    "    quat_xyzw=approch.orientation,\n",
    "    cartesian=True,\n",
    "    cartesian_max_step=cartesian_max_step,\n",
    "    cartesian_fraction_threshold=cartesian_fraction_threshold,\n",
    ")"
   ]
  },
  {
   "cell_type": "code",
   "execution_count": 25,
   "metadata": {},
   "outputs": [
    {
     "name": "stderr",
     "output_type": "stream",
     "text": [
      "[INFO] [1741793409.746291808] [notebook_example]: Move to target geometry_msgs.msg.Pose(position=geometry_msgs.msg.Point(x=0.5825, y=-0.345, z=0.10499999999999998), orientation=geometry_msgs.msg.Quaternion(x=-0.9238795325112867, y=0.0, z=0.0, w=0.38268343236508984))\n"
     ]
    },
    {
     "name": "stdout",
     "output_type": "stream",
     "text": [
      "True\n"
     ]
    }
   ],
   "source": [
    "if traj is not None:\n",
    "    node.get_logger().info(f\"Move to target {approch}\")\n",
    "    moveit2.execute(traj)\n",
    "    success = moveit2.wait_until_executed()\n",
    "    print(success)"
   ]
  },
  {
   "cell_type": "code",
   "execution_count": 26,
   "metadata": {},
   "outputs": [],
   "source": [
    "traj = moveit2.move_to_pose(\n",
    "    position=start.position,\n",
    "    quat_xyzw=start.orientation,\n",
    "    cartesian=True,\n",
    "    cartesian_max_step=cartesian_max_step,\n",
    "    cartesian_fraction_threshold=cartesian_fraction_threshold,\n",
    ")"
   ]
  },
  {
   "cell_type": "code",
   "execution_count": 27,
   "metadata": {},
   "outputs": [
    {
     "name": "stderr",
     "output_type": "stream",
     "text": [
      "[INFO] [1741793414.638586689] [notebook_example]: Move to target geometry_msgs.msg.Pose(position=geometry_msgs.msg.Point(x=0.5825, y=-0.345, z=-0.195), orientation=geometry_msgs.msg.Quaternion(x=-0.9238795325112867, y=0.0, z=0.0, w=0.38268343236508984))\n"
     ]
    },
    {
     "name": "stdout",
     "output_type": "stream",
     "text": [
      "True\n"
     ]
    }
   ],
   "source": [
    "if traj is not None:\n",
    "    node.get_logger().info(f\"Move to target {start}\")\n",
    "    moveit2.execute(traj)\n",
    "    success = moveit2.wait_until_executed()\n",
    "    print(success)\n",
    "    moveit2.remove_collision_object(\"box\")"
   ]
  },
  {
   "cell_type": "code",
   "execution_count": 28,
   "metadata": {},
   "outputs": [],
   "source": [
    "traj = moveit2.move_to_pose(\n",
    "    position=stop.position,\n",
    "    quat_xyzw=stop.orientation,\n",
    "    cartesian=cartesian,\n",
    "    cartesian_max_step=cartesian_max_step,\n",
    "    cartesian_fraction_threshold=cartesian_fraction_threshold,\n",
    ")"
   ]
  },
  {
   "cell_type": "code",
   "execution_count": 29,
   "metadata": {},
   "outputs": [
    {
     "name": "stderr",
     "output_type": "stream",
     "text": [
      "[INFO] [1741793418.818124797] [notebook_example]: Move to target geometry_msgs.msg.Pose(position=geometry_msgs.msg.Point(x=0.5825, y=0.43500000000000005, z=-0.195), orientation=geometry_msgs.msg.Quaternion(x=-0.9238795325112867, y=0.0, z=0.0, w=0.38268343236508984))\n"
     ]
    },
    {
     "name": "stdout",
     "output_type": "stream",
     "text": [
      "True\n"
     ]
    }
   ],
   "source": [
    "if traj is not None:\n",
    "    node.get_logger().info(f\"Move to target {stop}\")\n",
    "    moveit2.execute(traj)\n",
    "    success = moveit2.wait_until_executed()\n",
    "    print(success)"
   ]
  },
  {
   "cell_type": "code",
   "execution_count": 30,
   "metadata": {},
   "outputs": [],
   "source": [
    "traj = moveit2.move_to_pose(\n",
    "    position=safe_stop.position,\n",
    "    quat_xyzw=safe_stop.orientation,\n",
    "    cartesian=True,\n",
    "    cartesian_max_step=cartesian_max_step,\n",
    "    cartesian_fraction_threshold=cartesian_fraction_threshold,\n",
    ")"
   ]
  },
  {
   "cell_type": "code",
   "execution_count": 31,
   "metadata": {},
   "outputs": [
    {
     "name": "stderr",
     "output_type": "stream",
     "text": [
      "[INFO] [1741793423.514305693] [notebook_example]: Move to target geometry_msgs.msg.Pose(position=geometry_msgs.msg.Point(x=0.5825, y=0.43500000000000005, z=0.10499999999999998), orientation=geometry_msgs.msg.Quaternion(x=-0.9238795325112867, y=0.0, z=0.0, w=0.38268343236508984))\n"
     ]
    },
    {
     "name": "stdout",
     "output_type": "stream",
     "text": [
      "True\n"
     ]
    }
   ],
   "source": [
    "if traj is not None:\n",
    "    node.get_logger().info(f\"Move to target {safe_stop}\")\n",
    "    moveit2.execute(traj)\n",
    "    success = moveit2.wait_until_executed()\n",
    "    print(success)"
   ]
  },
  {
   "cell_type": "code",
   "execution_count": 17,
   "metadata": {},
   "outputs": [
    {
     "name": "stderr",
     "output_type": "stream",
     "text": [
      "[INFO] [1741793263.106066621] [notebook_example]: Moving to homecartesian =True position\n"
     ]
    }
   ],
   "source": [
    "home_position = [0.0, -pi / 2, pi / 2, 0.0, 0.0, 0.0]\n",
    "node.get_logger().info(\"Moving to homecartesian =True position\")\n",
    "traj_home = moveit2.move_to_configuration(home_position)\n",
    "if traj_home is None:\n",
    "    node.get_logger().error(\"Failed to move to home position\")"
   ]
  },
  {
   "cell_type": "code",
   "execution_count": 16,
   "metadata": {},
   "outputs": [
    {
     "name": "stderr",
     "output_type": "stream",
     "text": [
      "[INFO] [1741792434.037388338] [notebook_example]: Moved to home position\n"
     ]
    }
   ],
   "source": [
    "moveit2.execute(traj_home)\n",
    "success = moveit2.wait_until_executed()\n",
    "if not success:\n",
    "    node.get_logger().error(\"Failed to execute trajectory\")\n",
    "else:\n",
    "    node.get_logger().info(\"Moved to home position\")"
   ]
  },
  {
   "cell_type": "code",
   "execution_count": null,
   "metadata": {},
   "outputs": [],
   "source": [
    "home = Pose()\n",
    "\n",
    "home.position.x = 0.6\n",
    "home.position.y = 0.1\n",
    "home.position.z = 0.7\n",
    "\n",
    "h = quaternion_from_euler(-pi*3/4, 0.0, 0.0)\n",
    "\n",
    "home.orientation.x = h[0]\n",
    "home.orientation.y = h[1]\n",
    "home.orientation.z = h[2]\n",
    "home.orientation.w = h[3]\n",
    "\n",
    "display_poses([home])\n",
    "\n",
    "traj = moveit2.move_to_pose(\n",
    "                    position=home.position,\n",
    "                    quat_xyzw=home.orientation,\n",
    "                    cartesian=cartesian,\n",
    "                    cartesian_max_step=cartesian_max_step,\n",
    "                    cartesian_fraction_threshold=cartesian_fraction_threshold,\n",
    "                )\n",
    "\n",
    "if traj is not None:\n",
    "    node.get_logger().info(f\"Move to target {home}\")\n",
    "    moveit2.execute(traj)\n",
    "    success = moveit2.wait_until_executed()\n",
    "    print(success)"
   ]
  },
  {
   "cell_type": "code",
   "execution_count": 7,
   "metadata": {},
   "outputs": [
    {
     "name": "stderr",
     "output_type": "stream",
     "text": [
      "[INFO] [1741793835.274223916] [notebook_example]: Move to target 0\n"
     ]
    },
    {
     "name": "stdout",
     "output_type": "stream",
     "text": [
      "True\n"
     ]
    },
    {
     "name": "stderr",
     "output_type": "stream",
     "text": [
      "[INFO] [1741793843.166599846] [notebook_example]: Move to target 1\n"
     ]
    },
    {
     "name": "stdout",
     "output_type": "stream",
     "text": [
      "True\n"
     ]
    },
    {
     "name": "stderr",
     "output_type": "stream",
     "text": [
      "[INFO] [1741793848.760779766] [notebook_example]: Move to target 2\n"
     ]
    },
    {
     "name": "stdout",
     "output_type": "stream",
     "text": [
      "True\n"
     ]
    },
    {
     "name": "stderr",
     "output_type": "stream",
     "text": [
      "[INFO] [1741793858.448457850] [notebook_example]: Move to target 3\n"
     ]
    },
    {
     "name": "stdout",
     "output_type": "stream",
     "text": [
      "True\n"
     ]
    },
    {
     "name": "stderr",
     "output_type": "stream",
     "text": [
      "[INFO] [1741793864.232007420] [notebook_example]: Move to target 4\n"
     ]
    },
    {
     "name": "stdout",
     "output_type": "stream",
     "text": [
      "True\n"
     ]
    }
   ],
   "source": [
    "targets = [approch, start,stop, safe_stop,home]\n",
    "current_task = 0\n",
    "cartesian = True\n",
    "\n",
    "for k in targets:\n",
    "\n",
    "    if current_task == 1:\n",
    "        moveit2.remove_collision_object(\"box\")\n",
    "\n",
    "\n",
    "    traj = moveit2.move_to_pose(\n",
    "        position=k.position,\n",
    "        quat_xyzw=k.orientation,\n",
    "        cartesian=True,\n",
    "        cartesian_max_step=cartesian_max_step,\n",
    "        cartesian_fraction_threshold=cartesian_fraction_threshold,\n",
    "    )\n",
    "\n",
    "    if traj is not None:\n",
    "        node.get_logger().info(f\"Move to target {current_task}\")\n",
    "        moveit2.execute(traj)\n",
    "        success = moveit2.wait_until_executed()\n",
    "        print(success)\n",
    "        current_task += 1\n",
    "        \n",
    "    if current_task == len(targets):\n",
    "        current_task = 0\n",
    "        break\n"
   ]
  },
  {
   "cell_type": "code",
   "execution_count": null,
   "metadata": {},
   "outputs": [],
   "source": [
    "home = Pose()\n",
    "\n",
    "home.position.x = 0.6\n",
    "home.position.y = 0.1\n",
    "home.position.z = 0.7\n",
    "\n",
    "h = quaternion_from_euler(-pi*3/4, 0.0, 0.0)\n",
    "\n",
    "home.orientation.x = h[0]\n",
    "home.orientation.y = h[1]\n",
    "home.orientation.z = h[2]\n",
    "home.orientation.w = h[3]\n",
    "\n",
    "display_poses([home])\n",
    "\n",
    "traj = moveit2.move_to_pose(\n",
    "                    position=home.position,\n",
    "                    quat_xyzw=home.orientation,\n",
    "                    cartesian=cartesian,\n",
    "                    cartesian_max_step=cartesian_max_step,\n",
    "                    cartesian_fraction_threshold=cartesian_fraction_threshold,\n",
    "                )\n",
    "\n",
    "if traj is not None:\n",
    "    node.get_logger().info(f\"Move to target {home}\")\n",
    "    moveit2.execute(traj)\n",
    "    success = moveit2.wait_until_executed()\n",
    "    print(success)"
   ]
  },
  {
   "cell_type": "code",
   "execution_count": null,
   "metadata": {},
   "outputs": [],
   "source": [
    "# Add collision objects\n",
    "length= 0.070\n",
    "width= 0.030\n",
    "height= 0.018\n",
    "\n",
    "moveit2.add_collision_box(\n",
    "    id=\"object\",\n",
    "    size=[length, width, height],\n",
    "    position=[target.position.x, target.position.y, (target.position.z - height/2)],\n",
    "    quat_xyzw=target.orientation,\n",
    ")\n"
   ]
  },
  {
   "cell_type": "code",
   "execution_count": null,
   "metadata": {},
   "outputs": [],
   "source": [
    "approach_target = Pose(\n",
    "    position=Point(\n",
    "            x=pose_subscriber.latest_pose.position.x,\n",
    "            y=pose_subscriber.latest_pose.position.y,\n",
    "            z=pose_subscriber.latest_pose.position.z + 0.2\n",
    "        ),\n",
    "    orientation=target.orientation\n",
    "        )\n",
    "if approach_target is not None:\n",
    "    display_poses([approach_target])"
   ]
  },
  {
   "cell_type": "markdown",
   "metadata": {},
   "source": [
    "Plan a trajectory"
   ]
  },
  {
   "cell_type": "code",
   "execution_count": null,
   "metadata": {},
   "outputs": [],
   "source": [
    "position = approach_target.position\n",
    "quat_xyzw = approach_target .orientation\n",
    "\n",
    "\n",
    "node.get_logger().info(f\"Moving to approach_target\")\n",
    "traj = moveit2.move_to_pose(\n",
    "    position=position,\n",
    "    quat_xyzw=quat_xyzw,\n",
    "    cartesian=True,\n",
    "    cartesian_max_step=cartesian_max_step,\n",
    "    cartesian_fraction_threshold=cartesian_fraction_threshold,\n",
    ")"
   ]
  },
  {
   "cell_type": "markdown",
   "metadata": {},
   "source": [
    "Execute the trajectory"
   ]
  },
  {
   "cell_type": "code",
   "execution_count": null,
   "metadata": {},
   "outputs": [],
   "source": [
    "moveit2.execute(traj)\n",
    "success = moveit2.wait_until_executed()\n",
    "if not success:\n",
    "    node.get_logger().error(\"Failed to execute trajectory\")"
   ]
  },
  {
   "cell_type": "code",
   "execution_count": null,
   "metadata": {},
   "outputs": [],
   "source": [
    "position = [target.position.x, target.position.y, target.position.z]\n",
    "quat_xyzw = [target.orientation.x, target.orientation.y, target.orientation.z, target.orientation.w]\n",
    "\n",
    "\n",
    "node.get_logger().info(f\"Moving to {{position: {list(position)}, quat_xyzw: {list(quat_xyzw)}}}\")\n",
    "traj = moveit2.move_to_pose(\n",
    "    position=position,\n",
    "    quat_xyzw=quat_xyzw,\n",
    "    cartesian=True,\n",
    "    cartesian_max_step=cartesian_max_step,\n",
    "    cartesian_fraction_threshold=cartesian_fraction_threshold,\n",
    ")"
   ]
  },
  {
   "cell_type": "code",
   "execution_count": null,
   "metadata": {},
   "outputs": [],
   "source": [
    "moveit2.execute(traj)\n",
    "success = moveit2.wait_until_executed()\n",
    "if not success:\n",
    "    node.get_logger().error(\"Failed to execute trajectory\")"
   ]
  },
  {
   "cell_type": "code",
   "execution_count": null,
   "metadata": {},
   "outputs": [],
   "source": [
    "safe_out = Pose(\n",
    "    position=Point(\n",
    "            x=pose_subscriber.latest_pose.position.x,\n",
    "            y=pose_subscriber.latest_pose.position.y,\n",
    "            z=pose_subscriber.latest_pose.position.z + 0.2\n",
    "        ),\n",
    "    orientation=target.orientation\n",
    "        )\n",
    "if approach_target is not None:\n",
    "    display_poses([approach_target])"
   ]
  },
  {
   "cell_type": "code",
   "execution_count": null,
   "metadata": {},
   "outputs": [],
   "source": [
    "position = approach_target.position\n",
    "quat_xyzw = approach_target .orientation\n",
    "\n",
    "\n",
    "node.get_logger().info(f\"Moving to safe_out\")\n",
    "traj = moveit2.move_to_pose(\n",
    "    position=position,\n",
    "    quat_xyzw=quat_xyzw,\n",
    "    cartesian=True,\n",
    "    cartesian_max_step=cartesian_max_step,\n",
    "    cartesian_fraction_threshold=cartesian_fraction_threshold,\n",
    ")\n"
   ]
  },
  {
   "cell_type": "code",
   "execution_count": null,
   "metadata": {},
   "outputs": [],
   "source": [
    "moveit2.execute(traj)\n",
    "success = moveit2.wait_until_executed()\n",
    "if not success:\n",
    "    node.get_logger().error(\"Failed to execute trajectory\")"
   ]
  },
  {
   "cell_type": "code",
   "execution_count": null,
   "metadata": {},
   "outputs": [],
   "source": [
    "\n",
    "place_palne = Pose(position=Point(x=0.3, y=0.3, z=(height/2)),\n",
    "                   orientation=target.orientation)\n",
    "display_poses([place_palne])\n"
   ]
  }
 ],
 "metadata": {
  "kernelspec": {
   "display_name": "Python 3",
   "language": "python",
   "name": "python3"
  },
  "language_info": {
   "codemirror_mode": {
    "name": "ipython",
    "version": 3
   },
   "file_extension": ".py",
   "mimetype": "text/x-python",
   "name": "python",
   "nbconvert_exporter": "python",
   "pygments_lexer": "ipython3",
   "version": "3.10.12"
  }
 },
 "nbformat": 4,
 "nbformat_minor": 2
}
